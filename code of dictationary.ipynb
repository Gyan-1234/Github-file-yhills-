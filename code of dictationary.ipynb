{
  "nbformat": 4,
  "nbformat_minor": 0,
  "metadata": {
    "colab": {
      "provenance": []
    },
    "kernelspec": {
      "name": "python3",
      "display_name": "Python 3"
    },
    "language_info": {
      "name": "python"
    }
  },
  "cells": [
    {
      "cell_type": "code",
      "execution_count": 2,
      "metadata": {
        "colab": {
          "base_uri": "https://localhost:8080/"
        },
        "id": "3JAS9FCOF98X",
        "outputId": "903f9e1c-54b0-47ba-d1b9-8d06b068ef12"
      },
      "outputs": [
        {
          "output_type": "execute_result",
          "data": {
            "text/plain": [
              "{1: 'apple', 2: 'everyday', 3: 'data', 6: '35.6', 7: 35.2}"
            ]
          },
          "metadata": {},
          "execution_count": 2
        }
      ],
      "source": [
        "sample_dict={1:\"apple\",2:34.5,3:\"data\",2:\"everyday\",6:\"35.6\",7:35.2}\n",
        "sample_dict"
      ]
    },
    {
      "cell_type": "code",
      "source": [
        "sample_dict[7]"
      ],
      "metadata": {
        "colab": {
          "base_uri": "https://localhost:8080/"
        },
        "id": "_VVIpMo1GnQD",
        "outputId": "af87c506-8d44-4da3-ea0f-fdbeb24ce35f"
      },
      "execution_count": 3,
      "outputs": [
        {
          "output_type": "execute_result",
          "data": {
            "text/plain": [
              "35.2"
            ]
          },
          "metadata": {},
          "execution_count": 3
        }
      ]
    },
    {
      "cell_type": "code",
      "source": [
        "sample_dict[1]"
      ],
      "metadata": {
        "colab": {
          "base_uri": "https://localhost:8080/",
          "height": 36
        },
        "id": "5oH2WWPOIwaN",
        "outputId": "23811cbb-74e6-494b-9f88-3257e3c133fb"
      },
      "execution_count": 4,
      "outputs": [
        {
          "output_type": "execute_result",
          "data": {
            "text/plain": [
              "'apple'"
            ],
            "application/vnd.google.colaboratory.intrinsic+json": {
              "type": "string"
            }
          },
          "metadata": {},
          "execution_count": 4
        }
      ]
    },
    {
      "cell_type": "code",
      "source": [
        "sample_dict[10]=900"
      ],
      "metadata": {
        "id": "iJ_LPQj5I4iL"
      },
      "execution_count": 5,
      "outputs": []
    },
    {
      "cell_type": "code",
      "source": [
        "sample_dict"
      ],
      "metadata": {
        "colab": {
          "base_uri": "https://localhost:8080/"
        },
        "id": "cNMB09BVJ3ps",
        "outputId": "f4bf8622-b2f3-4da2-cfd4-1a4baefba786"
      },
      "execution_count": 6,
      "outputs": [
        {
          "output_type": "execute_result",
          "data": {
            "text/plain": [
              "{1: 'apple', 2: 'everyday', 3: 'data', 6: '35.6', 7: 35.2, 10: 900}"
            ]
          },
          "metadata": {},
          "execution_count": 6
        }
      ]
    },
    {
      "cell_type": "code",
      "source": [
        "sample_dict[3]=\"system update\""
      ],
      "metadata": {
        "id": "1EyW82QnJ7vR"
      },
      "execution_count": 7,
      "outputs": []
    },
    {
      "cell_type": "code",
      "source": [
        "sample_dict"
      ],
      "metadata": {
        "colab": {
          "base_uri": "https://localhost:8080/"
        },
        "id": "37L62p72KFAK",
        "outputId": "ea924220-df80-4ae7-ce6c-94e36ff331d7"
      },
      "execution_count": 8,
      "outputs": [
        {
          "output_type": "execute_result",
          "data": {
            "text/plain": [
              "{1: 'apple', 2: 'everyday', 3: 'system update', 6: '35.6', 7: 35.2, 10: 900}"
            ]
          },
          "metadata": {},
          "execution_count": 8
        }
      ]
    }
  ]
}